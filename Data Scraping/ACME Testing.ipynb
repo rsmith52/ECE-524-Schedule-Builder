{
 "cells": [
  {
   "cell_type": "code",
   "execution_count": 2,
   "metadata": {},
   "outputs": [],
   "source": [
    "# Import package\n",
    "from ACME import ACME\n",
    "import pandas as pd\n",
    "import json"
   ]
  },
  {
   "cell_type": "code",
   "execution_count": 3,
   "metadata": {},
   "outputs": [
    {
     "data": {
      "text/plain": [
       "<selenium.webdriver.chrome.webdriver.WebDriver (session=\"a389c4eae4d9b4112308c58a4ef95256\")>"
      ]
     },
     "execution_count": 3,
     "metadata": {},
     "output_type": "execute_result"
    }
   ],
   "source": [
    "# Access ACME (headless browsing = True)\n",
    "acme = ACME(False)\n",
    "acme.Login()"
   ]
  },
  {
   "cell_type": "code",
   "execution_count": 8,
   "metadata": {},
   "outputs": [
    {
     "name": "stderr",
     "output_type": "stream",
     "text": [
      "Scraping data for date range: 100%|██████████| 99/99 [03:00<00:00,  1.83s/it]\n"
     ]
    }
   ],
   "source": [
    "# Get date range of tables - ex: since jan 1 2021, start of Semester\n",
    "tables_3 = acme.GetSchedulesInRange(\"2021-1-1\")"
   ]
  },
  {
   "cell_type": "code",
   "execution_count": 9,
   "metadata": {},
   "outputs": [
    {
     "name": "stderr",
     "output_type": "stream",
     "text": [
      "Scraping Data by Agent: 100%|██████████| 91/91 [00:32<00:00,  2.81it/s]\n"
     ]
    }
   ],
   "source": [
    "# Get agent trainings from table data\n",
    "agents = acme.GetScheduledAgentTrainings(tables_3)"
   ]
  },
  {
   "cell_type": "code",
   "execution_count": 10,
   "metadata": {},
   "outputs": [],
   "source": [
    "# Save Off Agent Training Data\n",
    "with open('agent_training.json', 'w') as fp:\n",
    "    json.dump(agents, fp)"
   ]
  },
  {
   "cell_type": "code",
   "execution_count": 11,
   "metadata": {},
   "outputs": [],
   "source": [
    "acme.Close()"
   ]
  },
  {
   "cell_type": "code",
   "execution_count": null,
   "metadata": {},
   "outputs": [],
   "source": []
  }
 ],
 "metadata": {
  "kernelspec": {
   "display_name": "Python 3",
   "language": "python",
   "name": "python3"
  },
  "language_info": {
   "codemirror_mode": {
    "name": "ipython",
    "version": 3
   },
   "file_extension": ".py",
   "mimetype": "text/x-python",
   "name": "python",
   "nbconvert_exporter": "python",
   "pygments_lexer": "ipython3",
   "version": "3.7.2"
  }
 },
 "nbformat": 4,
 "nbformat_minor": 2
}
