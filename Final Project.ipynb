{
 "cells": [
  {
   "cell_type": "markdown",
   "metadata": {},
   "source": [
    "# DoIT Schedule Building\n",
    "### Ray Smith - ECE 524"
   ]
  },
  {
   "cell_type": "code",
   "execution_count": 1,
   "metadata": {},
   "outputs": [],
   "source": [
    "ENV[\"GUROBI_HOME\"] = \"/Library/gurobi911/mac64\"\n",
    "ENV[\"GRB_LICENSE_FILE\"] = \"/Library/gurobi911/gurobi.lic\"\n",
    "import Pkg"
   ]
  },
  {
   "cell_type": "code",
   "execution_count": 2,
   "metadata": {},
   "outputs": [
    {
     "name": "stderr",
     "output_type": "stream",
     "text": [
      "\u001b[32m\u001b[1m   Updating\u001b[22m\u001b[39m registry at `~/.julia/registries/General`\n"
     ]
    },
    {
     "name": "stdout",
     "output_type": "stream",
     "text": [
      "\u001b[?25l    "
     ]
    },
    {
     "name": "stderr",
     "output_type": "stream",
     "text": [
      "\u001b[32m\u001b[1m   Updating\u001b[22m\u001b[39m git-repo `https://github.com/JuliaRegistries/General.git`\n"
     ]
    },
    {
     "name": "stdout",
     "output_type": "stream",
     "text": [
      "\u001b[2K\u001b[?25h[1mFetching:\u001b[22m\u001b[39m [========================================>]  100.0 %[36m\u001b[1mFetching:\u001b[22m\u001b[39m [=====>                                   ]  11.5 %                             ]  26.8 % [=================>                       ]  42.1 %\u001b[36m\u001b[1mFetching:\u001b[22m\u001b[39m [=======================>                 ]  55.8 %>           ]  71.1 %  ]  93.3 %"
     ]
    },
    {
     "name": "stderr",
     "output_type": "stream",
     "text": [
      "\u001b[32m\u001b[1m  Resolving\u001b[22m\u001b[39m package versions...\n",
      "\u001b[32m\u001b[1mNo Changes\u001b[22m\u001b[39m to `~/.julia/environments/v1.5/Project.toml`\n",
      "\u001b[32m\u001b[1mNo Changes\u001b[22m\u001b[39m to `~/.julia/environments/v1.5/Manifest.toml`\n",
      "\u001b[32m\u001b[1m   Building\u001b[22m\u001b[39m Gurobi → `~/.julia/packages/Gurobi/JcjAE/deps/build.log`\n",
      "┌ Info: Precompiling Gurobi [2e9cd046-0924-5485-92f1-d5272153d98b]\n",
      "└ @ Base loading.jl:1278\n"
     ]
    }
   ],
   "source": [
    "# Imports\n",
    "using JuMP\n",
    "Pkg.add(\"Gurobi\")\n",
    "Pkg.build(\"Gurobi\")\n",
    "using Gurobi\n",
    "\n",
    "using CSV\n",
    "using JSON\n",
    "using DataFrames\n",
    "using OrderedCollections"
   ]
  },
  {
   "cell_type": "code",
   "execution_count": 186,
   "metadata": {},
   "outputs": [
    {
     "data": {
      "text/plain": [
       "32"
      ]
     },
     "execution_count": 186,
     "metadata": {},
     "output_type": "execute_result"
    }
   ],
   "source": [
    "# Display Settings\n",
    "\n",
    "ENV[\"COLUMNS\"]=120\n",
    "ENV[\"LINES\"] = 32"
   ]
  },
  {
   "cell_type": "code",
   "execution_count": 3,
   "metadata": {},
   "outputs": [
    {
     "data": {
      "text/plain": [
       "true"
      ]
     },
     "execution_count": 3,
     "metadata": {},
     "output_type": "execute_result"
    }
   ],
   "source": [
    "# Schedule Rules\n",
    "\n",
    "# General Schedule Layout\n",
    "hours = 1:32\n",
    "hours_real = 7:0.5:22.5\n",
    "days = 1:7\n",
    "\n",
    "# Shift Types and Training Requirements\n",
    "shifts = [\"HDQA\", \"Phones\", \"Chat/Email\", \"Walk-In\"]\n",
    "training_levels = [\"Pick 1\", \"Walk-In\", \"Pick 3\", \"Chat/Email\", \"HDQA\", \"SLP\"]\n",
    "requirements = Dict()\n",
    "requirements[shifts[1]] = [training_levels[5]]\n",
    "requirements[shifts[2]] = [training_levels[1]]\n",
    "requirements[shifts[3]] = [training_levels[4]]\n",
    "requirements[shifts[4]] = [training_levels[2]]\n",
    "\n",
    "# Allowed Flexibility in (Extra) Agents Scheduled\n",
    "flexibility = Dict()\n",
    "flexibility[shifts[1]] = 0\n",
    "flexibility[shifts[2]] = 1\n",
    "flexibility[shifts[3]] = 1\n",
    "flexibility[shifts[4]] = 1\n",
    "\n",
    "# Other Rules\n",
    "adv_phones_req = 1 # min number of pick 3 trained agents scheduled over a phones shift\n",
    "min_shift_length = 4 # in 1/2 hour blocks\n",
    "agent_min = 15\n",
    "agent_max = 25\n",
    "sch_yellow = true"
   ]
  },
  {
   "cell_type": "code",
   "execution_count": 4,
   "metadata": {},
   "outputs": [],
   "source": [
    "# Data Input\n",
    "\n",
    "# Schedule Shifts\n",
    "raw_week = CSV.read(joinpath(@__DIR__, \"week_req.csv\"), DataFrame)\n",
    "week_shift_types = names(raw_week)\n",
    "week = Matrix(raw_week)\n",
    "raw_weekend = CSV.read(joinpath(@__DIR__, \"weekend_req.csv\"), DataFrame)\n",
    "weekend_shift_types = names(raw_weekend)\n",
    "weekend = Matrix(raw_weekend)\n",
    "\n",
    "weekday = [OrderedDict() for i in hours]\n",
    "weekendday = [OrderedDict() for i in hours]\n",
    "for i in hours\n",
    "    j = 1\n",
    "    for shift in week_shift_types\n",
    "        weekday[i][shift] = week[i, j]\n",
    "        j += 1\n",
    "    end\n",
    "    k = 1\n",
    "    for shift in weekend_shift_types\n",
    "        weekendday[i][shift] = weekend[i, k]\n",
    "        k += 1\n",
    "    end\n",
    "end\n",
    "\n",
    "# Availability\n",
    "string_data = join(readlines(\"availability.json\"))\n",
    "raw_avail = JSON.parse(string_data)\n",
    "agents = keys(raw_avail)\n",
    "avail = OrderedDict()\n",
    "for agent in agents\n",
    "    raw_agent_avail = raw_avail[agent]\n",
    "    agent_avail = OrderedDict()\n",
    "    for i in hours\n",
    "        agent_avail[i] = raw_agent_avail[i]\n",
    "    end\n",
    "    avail[agent] = agent_avail\n",
    "end\n",
    "\n",
    "# Training\n",
    "string_data = join(readlines(\"agent_training.json\"))\n",
    "raw_trainings = JSON.parse(string_data)\n",
    "all_agents = keys(raw_trainings)\n",
    "trainings = OrderedDict()\n",
    "for agent in all_agents\n",
    "    raw_agent_trainings = raw_trainings[agent]\n",
    "    base_job = raw_agent_trainings[:\"Base\"]\n",
    "    agent_trainings = raw_agent_trainings[:\"Trainings\"]\n",
    "    if startswith(base_job, \"SLP\")\n",
    "        append!(agent_trainings, [\"SLP\"])\n",
    "    end\n",
    "    trainings[agent] = agent_trainings\n",
    "end"
   ]
  },
  {
   "cell_type": "code",
   "execution_count": 5,
   "metadata": {},
   "outputs": [
    {
     "data": {
      "text/plain": [
       "get_neighbor_shifts (generic function with 1 method)"
      ]
     },
     "execution_count": 5,
     "metadata": {},
     "output_type": "execute_result"
    }
   ],
   "source": [
    "# Model Helper Functions\n",
    "\n",
    "# Check if agent has training\n",
    "function has_training(agent, training_level)\n",
    "    return training_level in trainings[agent]\n",
    "end\n",
    "\n",
    "# Check if agent meets all training requirements for a shift\n",
    "function meets_requirements(agent, shift)\n",
    "    shift_req = requirements[shift]\n",
    "    for training in shift_req\n",
    "        if !has_training(agent, training)\n",
    "            return false\n",
    "        end\n",
    "    end\n",
    "    return true\n",
    "end\n",
    "\n",
    "# Check if agent is available (green/yellow) at a day/time\n",
    "function shift_available(agent, day, time)\n",
    "    agent_avail = avail[agent]\n",
    "    time_slice = agent_avail[time]\n",
    "    color = time_slice[day]\n",
    "    \n",
    "    if color == \"G\" || (color == \"Y\" && sch_yellow)\n",
    "        return true\n",
    "    else\n",
    "        return false\n",
    "    end\n",
    "end\n",
    "\n",
    "# Get shift types for a day\n",
    "function get_shift_types(day)\n",
    "    if (day == 1 || day == 7)\n",
    "        return weekend_shift_types\n",
    "    else\n",
    "        return week_shift_types\n",
    "    end\n",
    "end\n",
    "\n",
    "# Get shift requirements for a day\n",
    "function get_day_req(day)\n",
    "    if (day == 1 || day == 7)\n",
    "        return weekendday\n",
    "    else\n",
    "        return weekday\n",
    "    end\n",
    "end\n",
    "\n",
    "# Get agent total available hours\n",
    "function get_total_hours(agent)\n",
    "    total = 0\n",
    "    for day in days\n",
    "        for hour in hours\n",
    "            if (shift_available(agent, day, hour))\n",
    "                total += 1\n",
    "            end\n",
    "        end\n",
    "    end\n",
    "    return total\n",
    "end\n",
    "\n",
    "# Get agent min hours\n",
    "function get_min_hours(agent)\n",
    "    return min(get_total_hours(agent), agent_min)\n",
    "end\n",
    "\n",
    "# Get neighboring shifts\n",
    "function get_neighbor_shifts(time)\n",
    "    range = []\n",
    "    for hour in hours\n",
    "        if abs(hour - time) < min_shift_length\n",
    "            append!(range, hour)\n",
    "        end\n",
    "    end\n",
    "    return range\n",
    "end"
   ]
  },
  {
   "cell_type": "markdown",
   "metadata": {},
   "source": [
    "##### Model 1: Just assigned work or not"
   ]
  },
  {
   "cell_type": "code",
   "execution_count": 86,
   "metadata": {},
   "outputs": [
    {
     "name": "stdout",
     "output_type": "stream",
     "text": [
      "Academic license - for non-commercial use only - expires 2021-05-06\n",
      "Total Hours Scheduled: 1445.0\n"
     ]
    }
   ],
   "source": [
    "# Scheduling Model Setup\n",
    "\n",
    "m = Model(Gurobi.Optimizer)\n",
    "set_optimizer_attribute(m, \"OutputFlag\", 0)\n",
    "\n",
    "@variable(m, sch[agents, days, hours], Bin) # If agent scheduled\n",
    "@variable(m, req[agents, shifts], Bin) # If agent meets shift requirement\n",
    "@variable(m, adv[agents], Bin) # If agent is adv. phones trained\n",
    "\n",
    "# Set shift eligibility\n",
    "for agent in agents\n",
    "    for shift in shifts\n",
    "        @constraint(m, req[agent, shift] == meets_requirements(agent, shift))\n",
    "    end\n",
    "    @constraint(m, adv[agent] == has_training(agent, \"Pick 3\"))\n",
    "end\n",
    "\n",
    "# Shift requirement constraints\n",
    "for day in days\n",
    "    shift_types = get_shift_types(day)\n",
    "    day_req = get_day_req(day)\n",
    "    \n",
    "    for hour in hours\n",
    "        max_workers = 0\n",
    "        min_workers = 0\n",
    "        for shift in shift_types\n",
    "            max_workers += day_req[hour][shift] + flexibility[shift]\n",
    "            min_workers += day_req[hour][shift]\n",
    "            \n",
    "            # Ensure enough trained agents on each shift\n",
    "            @constraint(m, sum(sch[agent, day, hour] * req[agent, shift] for agent in agents) >= day_req[hour][shift])\n",
    "            \n",
    "            # Ensure enough total agents on each shift\n",
    "            @constraint(m, sum(sch[agent, day, hour] for agent in agents) >= min_workers)\n",
    "        end\n",
    "        \n",
    "        # Advanced phone agent requirement\n",
    "        @constraint(m, sum(sch[agent, day, hour] * adv[agent] for agent in agents) >= adv_phones_req)\n",
    "        \n",
    "        # Ensure no excessive scheduling of extra workers\n",
    "        @constraint(m , sum(sch[agent, day, hour] for agent in agents) <= max_workers)\n",
    "    end\n",
    "end\n",
    "\n",
    "# Ensure agents only scheduled when green/yellow\n",
    "for agent in agents\n",
    "    for day in days\n",
    "        for hour in hours\n",
    "            @constraint(m, sch[agent, day, hour] <= shift_available(agent, day, hour))\n",
    "        end\n",
    "    end\n",
    "end\n",
    "\n",
    "# Ensure each agent works within the min/max allowed hour range\n",
    "for agent in agents\n",
    "    @constraint(m, sum(sch[agent, day, hour] for day in days, hour in hours) >= get_min_hours(agent))\n",
    "    @constraint(m, sum(sch[agent, day, hour] for day in days, hour in hours) <= agent_max)\n",
    "end\n",
    "\n",
    "# Don't allow shifts of < minimum duration\n",
    "for agent in agents\n",
    "    for day in days\n",
    "        for hour in hours\n",
    "            @constraint(m, sum(sch[agent, day, h] for h in get_neighbor_shifts(hour)) >= sch[agent, day, hour] * min_shift_length)\n",
    "        end\n",
    "    end\n",
    "end\n",
    "\n",
    "# Schedule the minimum amount of agents possible\n",
    "@objective(m, Min, sum(sch))\n",
    "\n",
    "# Solve the scheduling problem\n",
    "optimize!(m)\n",
    "println(\"Total Hours Scheduled: \", sum(value.(sch)))\n",
    "# 7542 is max using all green availability\n",
    "# 12092 is max using all green/yellow availability"
   ]
  },
  {
   "cell_type": "code",
   "execution_count": 88,
   "metadata": {},
   "outputs": [
    {
     "data": {
      "text/plain": [
       "2-dimensional DenseAxisArray{Float64,2,...} with index sets:\n",
       "    Dimension 1, 1:7\n",
       "    Dimension 2, 1:32\n",
       "And data, a 7×32 Array{Float64,2}:\n",
       " 0.0  0.0  0.0  0.0  0.0  0.0  0.0  0.0  …  0.0  0.0  0.0  0.0  0.0  0.0  0.0\n",
       " 0.0  0.0  0.0  0.0  0.0  0.0  0.0  0.0     0.0  0.0  0.0  0.0  0.0  0.0  0.0\n",
       " 0.0  0.0  0.0  0.0  0.0  0.0  0.0  0.0     0.0  0.0  0.0  0.0  0.0  0.0  0.0\n",
       " 0.0  0.0  0.0  0.0  0.0  0.0  0.0  0.0     0.0  0.0  0.0  0.0  0.0  0.0  0.0\n",
       " 0.0  0.0  0.0  0.0  0.0  0.0  0.0  0.0     0.0  0.0  0.0  0.0  0.0  0.0  0.0\n",
       " 0.0  0.0  0.0  0.0  0.0  0.0  0.0  0.0  …  0.0  0.0  0.0  0.0  0.0  0.0  0.0\n",
       " 0.0  0.0  0.0  0.0  0.0  0.0  0.0  0.0     0.0  0.0  0.0  0.0  0.0  0.0  0.0"
      ]
     },
     "execution_count": 88,
     "metadata": {},
     "output_type": "execute_result"
    }
   ],
   "source": [
    "# View agent schedule\n",
    "\n",
    "X = value.(sch)\n",
    "X[\"RAYS\",:,:]"
   ]
  },
  {
   "cell_type": "code",
   "execution_count": 89,
   "metadata": {
    "scrolled": false
   },
   "outputs": [
    {
     "name": "stdout",
     "output_type": "stream",
     "text": [
      "7.0 : Any[\"STAD\", \"SPEK\", \"JLEE\", \"HAMC\"]\n",
      "7.5 : Any[\"STAD\", \"SPEK\", \"JLEE\", \"HAMC\"]\n",
      "8.0 : Any[\"MORI\", \"OCLA\", \"STAD\", \"SPEK\", \"JLEE\", \"HAMC\"]\n",
      "8.5 : Any[\"MORI\", \"OCLA\", \"STAD\", \"SPEK\", \"JLEE\", \"HAMC\"]\n",
      "9.0 : Any[\"MORI\", \"KTEM\", \"OCLA\", \"ALZA\", \"DBON\", \"TATO\", \"JJBE\", \"MUSA\", \"SPEK\", \"HAMC\"]\n",
      "9.5 : Any[\"MORI\", \"KTEM\", \"OCLA\", \"ALZA\", \"DBON\", \"TATO\", \"JJBE\", \"HUNT\", \"MUSA\", \"SPEK\"]\n",
      "10.0 : Any[\"MORI\", \"KTEM\", \"ALZA\", \"DBON\", \"TATO\", \"MOME\", \"JJBE\", \"STEF\", \"HUNT\", \"MUSA\", \"SPEK\", \"JBRI\"]\n",
      "10.5 : Any[\"MORI\", \"KTEM\", \"ALZA\", \"DBON\", \"TATO\", \"MOME\", \"JJBE\", \"STEF\", \"HUNT\", \"BCON\", \"MUSA\", \"JBRI\"]\n",
      "11.0 : Any[\"DBON\", \"MOME\", \"JJBE\", \"STEF\", \"HUNT\", \"JOBA\", \"BCON\", \"DRDO\", \"KALA\", \"HEER\", \"MUSA\", \"JBRI\"]\n",
      "11.5 : Any[\"MOME\", \"JJBE\", \"STEF\", \"JOBA\", \"BCON\", \"HAYA\", \"DRDO\", \"KALA\", \"ADWI\", \"HEER\", \"MUSA\", \"JBRI\"]\n",
      "12.0 : Any[\"TATO\", \"STEF\", \"ELLI\", \"CAZA\", \"JOBA\", \"BCON\", \"HAYA\", \"DRDO\", \"KALA\", \"ADWI\", \"HEER\", \"JBRI\"]\n",
      "12.5 : Any[\"TATO\", \"STEF\", \"ELLI\", \"CAZA\", \"JOBA\", \"BCON\", \"HAYA\", \"DRDO\", \"KALA\", \"ADWI\", \"HEER\", \"JBRI\"]\n",
      "13.0 : Any[\"TATO\", \"STEF\", \"ELLI\", \"CAZA\", \"JOBA\", \"HAYA\", \"LBAN\", \"ADWI\", \"THOK\", \"RAYS\"]\n",
      "13.5 : Any[\"TATO\", \"STEF\", \"ELLI\", \"CAZA\", \"LBAN\", \"ADWI\", \"MUSA\", \"MJMO\", \"THOK\", \"RAYS\"]\n",
      "14.0 : Any[\"DANI\", \"STEF\", \"ELLI\", \"CAZA\", \"LBAN\", \"ADWI\", \"MUSA\", \"MJMO\", \"THOK\", \"RAYS\"]\n",
      "14.5 : Any[\"DANI\", \"STEF\", \"CAZA\", \"LBAN\", \"MUSA\", \"ATRI\", \"MJMO\", \"THOK\", \"RAYS\"]\n",
      "15.0 : Any[\"DANI\", \"STEF\", \"ELLI\", \"HEER\", \"MUSA\", \"ATRI\", \"MJMO\", \"THOK\", \"RAYS\"]\n",
      "15.5 : Any[\"DANI\", \"STEF\", \"ELLI\", \"LKRE\", \"HEER\", \"ATRI\", \"MJMO\", \"THOK\", \"RAYS\"]\n",
      "16.0 : Any[\"ELLI\", \"CKLE\", \"LKRE\", \"HEER\", \"AARK\", \"ATRI\", \"MJMO\", \"THOK\", \"RAYS\"]\n",
      "16.5 : Any[\"ELLI\", \"CKLE\", \"PETU\", \"LKRE\", \"HEER\", \"AARK\", \"MJMO\", \"THOK\"]\n",
      "17.0 : Any[\"CKLE\", \"PETU\", \"LKRE\", \"AARK\", \"EWJE\"]\n",
      "17.5 : Any[\"CKLE\", \"PETU\", \"AARK\", \"EWJE\", \"RWER\"]\n",
      "18.0 : Any[\"AWGR\", \"PETU\", \"AARK\", \"GARC\", \"EWJE\", \"RWER\"]\n",
      "18.5 : Any[\"STEF\", \"AWGR\", \"PETU\", \"GARC\", \"EWJE\", \"RWER\"]\n",
      "19.0 : Any[\"DANI\", \"STEF\", \"AWGR\", \"MNEL\", \"GARC\", \"RWER\"]\n",
      "19.5 : Any[\"DANI\", \"STEF\", \"AWGR\", \"MNEL\", \"GARC\", \"SMDO\", \"RWER\"]\n",
      "20.0 : Any[\"DANI\", \"STEF\", \"AWGR\", \"MNEL\", \"GARC\", \"SMDO\", \"JLEE\"]\n",
      "20.5 : Any[\"DANI\", \"AWGR\", \"MNEL\", \"CKLE\", \"GENI\", \"SMDO\", \"JLEE\"]\n",
      "21.0 : Any[\"CKLE\", \"GENI\", \"SMDO\", \"JLEE\", \"JKLO\"]\n",
      "21.5 : Any[\"CKLE\", \"GENI\", \"SMDO\", \"JLEE\", \"JKLO\"]\n",
      "22.0 : Any[\"CKLE\", \"GENI\", \"SMDO\", \"JKLO\"]\n",
      "22.5 : Any[\"CKLE\", \"GENI\", \"SMDO\", \"JKLO\"]\n"
     ]
    }
   ],
   "source": [
    "# Show Daily Schedule Nicely\n",
    "\n",
    "schedule = OrderedDict()\n",
    "for day in days\n",
    "    schedule[day] = OrderedDict()\n",
    "    for hour in hours\n",
    "        schedule[day][hours_real[hour]] = []\n",
    "        for agent in agents\n",
    "            if X[agent, day, hour] == 1\n",
    "                append!(schedule[day][hours_real[hour]], [agent])\n",
    "            end\n",
    "        end\n",
    "    end\n",
    "end\n",
    "\n",
    "day_to_show = 2 # Monday\n",
    "for hour in hours_real\n",
    "    println(hour, \" : \", schedule[day_to_show][hour])\n",
    "end"
   ]
  },
  {
   "cell_type": "markdown",
   "metadata": {},
   "source": [
    "##### Model 2: Assigns Roles"
   ]
  },
  {
   "cell_type": "code",
   "execution_count": 118,
   "metadata": {},
   "outputs": [
    {
     "name": "stdout",
     "output_type": "stream",
     "text": [
      "Academic license - for non-commercial use only - expires 2021-05-06\n",
      "Total Hours Scheduled: 1445.0\n"
     ]
    }
   ],
   "source": [
    "# Role assigning model\n",
    "\n",
    "m = Model(Gurobi.Optimizer)\n",
    "set_optimizer_attribute(m, \"OutputFlag\", 0)\n",
    "\n",
    "@variable(m, sch[agents, days, hours, shifts], Bin) # If agent scheduled and for what role\n",
    "@variable(m, req[agents, shifts], Bin) # If agent meets shift requirement\n",
    "@variable(m, adv[agents], Bin) # If agent is adv. phones trained\n",
    "\n",
    "# Set shift eligibility\n",
    "for agent in agents\n",
    "    for shift in shifts\n",
    "        @constraint(m, req[agent, shift] == meets_requirements(agent, shift))\n",
    "    end\n",
    "    @constraint(m, adv[agent] == has_training(agent, \"Pick 3\"))\n",
    "end\n",
    "\n",
    "# Only allow each agent to be scheduled for 1 shift at a time\n",
    "for agent in agents\n",
    "    for day in days\n",
    "        for hour in hours\n",
    "            @constraint(m, sum(sch[agent, day, hour, shift] for shift in shifts) <= 1)\n",
    "        end\n",
    "    end\n",
    "end\n",
    "\n",
    "# Shift requirement constraints\n",
    "for day in days\n",
    "    shift_types = get_shift_types(day)\n",
    "    day_req = get_day_req(day)\n",
    "    \n",
    "    for hour in hours\n",
    "        for shift in shift_types\n",
    "            # Ensure enough trained agents on each shift\n",
    "            @constraint(m, sum(sch[agent, day, hour, shift] * req[agent, shift] for agent in agents) >= day_req[hour][shift])\n",
    "            \n",
    "            # Ensure no excessive scheduling of extra workers\n",
    "            @constraint(m , sum(sch[agent, day, hour, shift] for agent in agents) <= day_req[hour][shift] + flexibility[shift])\n",
    "        end\n",
    "        \n",
    "        # Advanced phone agent requirement\n",
    "        @constraint(m, sum(sch[agent, day, hour, \"Phones\"] * adv[agent] for agent in agents) >= adv_phones_req)\n",
    "    end\n",
    "end\n",
    "\n",
    "# Only allow agents to be scheduled when green/yellow\n",
    "for agent in agents\n",
    "    for day in days\n",
    "        for hour in hours\n",
    "            for shift in shifts\n",
    "                @constraint(m, sch[agent, day, hour, shift] <= shift_available(agent, day, hour))\n",
    "            end\n",
    "        end\n",
    "    end\n",
    "end\n",
    "\n",
    "# Ensure each agent works within the min/max allowed hour range\n",
    "for agent in agents\n",
    "    @constraint(m, sum(sch[agent, day, hour, shift] for day in days, hour in hours, shift in shifts) >= get_min_hours(agent))\n",
    "    @constraint(m, sum(sch[agent, day, hour, shift] for day in days, hour in hours, shift in shifts) <= agent_max)\n",
    "end\n",
    "\n",
    "# Don't allow shifts of < minimum duration\n",
    "for agent in agents\n",
    "    for day in days\n",
    "        for hour in hours\n",
    "            for shift in shifts\n",
    "                @constraint(m, sum(sch[agent, day, h, shift] for h in get_neighbor_shifts(hour)) >= sch[agent, day, hour, shift] * min_shift_length)\n",
    "            end\n",
    "        end\n",
    "    end\n",
    "end\n",
    "\n",
    "# Schedule the minimum amount of agents possible\n",
    "@objective(m, Min, sum(sch))\n",
    "\n",
    "# Solve the scheduling problem\n",
    "optimize!(m)\n",
    "println(\"Total Hours Scheduled: \", sum(value.(sch)))\n",
    "# 7542 is max using all green availability\n",
    "# 12092 is max using all green/yellow availability"
   ]
  },
  {
   "cell_type": "code",
   "execution_count": 193,
   "metadata": {},
   "outputs": [
    {
     "data": {
      "text/html": [
       "<table class=\"data-frame\"><thead><tr><th></th><th>time</th><th>hdqa</th><th>phones</th></tr><tr><th></th><th>Float64</th><th>Any</th><th>Any</th></tr></thead><tbody><p>32 rows × 3 columns</p><tr><th>1</th><td>7.0</td><td>[\"AARK\"]</td><td>[\"CKLE\"]</td></tr><tr><th>2</th><td>7.5</td><td>[\"AARK\"]</td><td>[\"CKLE\"]</td></tr><tr><th>3</th><td>8.0</td><td>[\"AARK\"]</td><td>[\"FOER\", \"CKLE\"]</td></tr><tr><th>4</th><td>8.5</td><td>[\"AARK\"]</td><td>[\"FOER\", \"CKLE\"]</td></tr><tr><th>5</th><td>9.0</td><td>[\"TATO\"]</td><td>[\"FOER\", \"GOFF\"]</td></tr><tr><th>6</th><td>9.5</td><td>[\"TATO\"]</td><td>[\"FOER\", \"GOFF\"]</td></tr><tr><th>7</th><td>10.0</td><td>[\"TATO\"]</td><td>[\"GOFF\", \"RWAS\"]</td></tr><tr><th>8</th><td>10.5</td><td>[\"TATO\"]</td><td>[\"GOFF\", \"RWAS\"]</td></tr><tr><th>9</th><td>11.0</td><td>[\"TATO\"]</td><td>[\"GOFF\", \"RWAS\"]</td></tr><tr><th>10</th><td>11.5</td><td>[\"TATO\"]</td><td>[\"LEBO\", \"RWAS\"]</td></tr><tr><th>11</th><td>12.0</td><td>[\"TATO\"]</td><td>[\"LEBO\", \"GOFF\"]</td></tr><tr><th>12</th><td>12.5</td><td>[\"TATO\"]</td><td>[\"LEBO\", \"GOFF\"]</td></tr><tr><th>13</th><td>13.0</td><td>[\"TATO\"]</td><td>[\"LEBO\", \"GOFF\"]</td></tr><tr><th>14</th><td>13.5</td><td>[\"EWJE\"]</td><td>[\"HOST\", \"GOFF\"]</td></tr><tr><th>15</th><td>14.0</td><td>[\"EWJE\"]</td><td>[\"HOST\", \"GOFF\"]</td></tr><tr><th>16</th><td>14.5</td><td>[\"EWJE\"]</td><td>[\"FOER\", \"HOST\"]</td></tr><tr><th>17</th><td>15.0</td><td>[\"EWJE\"]</td><td>[\"FOER\", \"HOST\"]</td></tr><tr><th>18</th><td>15.5</td><td>[\"EWJE\"]</td><td>[\"FOER\", \"RWAS\"]</td></tr><tr><th>19</th><td>16.0</td><td>[\"TATO\"]</td><td>[\"FOER\", \"RWAS\"]</td></tr><tr><th>20</th><td>16.5</td><td>[\"TATO\"]</td><td>[\"FOER\", \"RWAS\"]</td></tr><tr><th>21</th><td>17.0</td><td>[\"TATO\"]</td><td>[\"FOER\", \"RWAS\"]</td></tr><tr><th>22</th><td>17.5</td><td>[\"TATO\"]</td><td>[\"MORI\", \"FOER\"]</td></tr><tr><th>23</th><td>18.0</td><td>[\"TBOS\"]</td><td>[\"MORI\", \"FOER\"]</td></tr><tr><th>24</th><td>18.5</td><td>[\"TBOS\"]</td><td>[\"MORI\", \"FOER\"]</td></tr><tr><th>25</th><td>19.0</td><td>[\"TBOS\"]</td><td>[\"MORI\", \"RIHA\"]</td></tr><tr><th>26</th><td>19.5</td><td>[\"TBOS\"]</td><td>[\"RIHA\", \"BANT\"]</td></tr><tr><th>27</th><td>20.0</td><td>[\"JEMA\"]</td><td>[\"RIHA\", \"BANT\"]</td></tr><tr><th>28</th><td>20.5</td><td>[\"JEMA\"]</td><td>[\"RIHA\", \"BANT\"]</td></tr><tr><th>29</th><td>21.0</td><td>[\"JEMA\"]</td><td>[\"BANT\"]</td></tr><tr><th>30</th><td>21.5</td><td>[\"JEMA\"]</td><td>[\"BANT\"]</td></tr><tr><th>31</th><td>22.0</td><td>[\"JEMA\"]</td><td>[\"BANT\"]</td></tr><tr><th>32</th><td>22.5</td><td>[\"JEMA\"]</td><td>[\"BANT\"]</td></tr></tbody></table>"
      ],
      "text/latex": [
       "\\begin{tabular}{r|ccc}\n",
       "\t& time & hdqa & phones\\\\\n",
       "\t\\hline\n",
       "\t& Float64 & Any & Any\\\\\n",
       "\t\\hline\n",
       "\t1 & 7.0 & [\"AARK\"] & [\"CKLE\"] \\\\\n",
       "\t2 & 7.5 & [\"AARK\"] & [\"CKLE\"] \\\\\n",
       "\t3 & 8.0 & [\"AARK\"] & [\"FOER\", \"CKLE\"] \\\\\n",
       "\t4 & 8.5 & [\"AARK\"] & [\"FOER\", \"CKLE\"] \\\\\n",
       "\t5 & 9.0 & [\"TATO\"] & [\"FOER\", \"GOFF\"] \\\\\n",
       "\t6 & 9.5 & [\"TATO\"] & [\"FOER\", \"GOFF\"] \\\\\n",
       "\t7 & 10.0 & [\"TATO\"] & [\"GOFF\", \"RWAS\"] \\\\\n",
       "\t8 & 10.5 & [\"TATO\"] & [\"GOFF\", \"RWAS\"] \\\\\n",
       "\t9 & 11.0 & [\"TATO\"] & [\"GOFF\", \"RWAS\"] \\\\\n",
       "\t10 & 11.5 & [\"TATO\"] & [\"LEBO\", \"RWAS\"] \\\\\n",
       "\t11 & 12.0 & [\"TATO\"] & [\"LEBO\", \"GOFF\"] \\\\\n",
       "\t12 & 12.5 & [\"TATO\"] & [\"LEBO\", \"GOFF\"] \\\\\n",
       "\t13 & 13.0 & [\"TATO\"] & [\"LEBO\", \"GOFF\"] \\\\\n",
       "\t14 & 13.5 & [\"EWJE\"] & [\"HOST\", \"GOFF\"] \\\\\n",
       "\t15 & 14.0 & [\"EWJE\"] & [\"HOST\", \"GOFF\"] \\\\\n",
       "\t16 & 14.5 & [\"EWJE\"] & [\"FOER\", \"HOST\"] \\\\\n",
       "\t17 & 15.0 & [\"EWJE\"] & [\"FOER\", \"HOST\"] \\\\\n",
       "\t18 & 15.5 & [\"EWJE\"] & [\"FOER\", \"RWAS\"] \\\\\n",
       "\t19 & 16.0 & [\"TATO\"] & [\"FOER\", \"RWAS\"] \\\\\n",
       "\t20 & 16.5 & [\"TATO\"] & [\"FOER\", \"RWAS\"] \\\\\n",
       "\t21 & 17.0 & [\"TATO\"] & [\"FOER\", \"RWAS\"] \\\\\n",
       "\t22 & 17.5 & [\"TATO\"] & [\"MORI\", \"FOER\"] \\\\\n",
       "\t23 & 18.0 & [\"TBOS\"] & [\"MORI\", \"FOER\"] \\\\\n",
       "\t24 & 18.5 & [\"TBOS\"] & [\"MORI\", \"FOER\"] \\\\\n",
       "\t25 & 19.0 & [\"TBOS\"] & [\"MORI\", \"RIHA\"] \\\\\n",
       "\t26 & 19.5 & [\"TBOS\"] & [\"RIHA\", \"BANT\"] \\\\\n",
       "\t27 & 20.0 & [\"JEMA\"] & [\"RIHA\", \"BANT\"] \\\\\n",
       "\t28 & 20.5 & [\"JEMA\"] & [\"RIHA\", \"BANT\"] \\\\\n",
       "\t29 & 21.0 & [\"JEMA\"] & [\"BANT\"] \\\\\n",
       "\t30 & 21.5 & [\"JEMA\"] & [\"BANT\"] \\\\\n",
       "\t31 & 22.0 & [\"JEMA\"] & [\"BANT\"] \\\\\n",
       "\t32 & 22.5 & [\"JEMA\"] & [\"BANT\"] \\\\\n",
       "\\end{tabular}\n"
      ],
      "text/plain": [
       "\u001b[1m32×3 DataFrame\u001b[0m\n",
       "\u001b[1m Row \u001b[0m│\u001b[1m time    \u001b[0m\u001b[1m hdqa        \u001b[0m\u001b[1m phones              \u001b[0m\n",
       "\u001b[1m     \u001b[0m│\u001b[90m Float64 \u001b[0m\u001b[90m Any         \u001b[0m\u001b[90m Any                 \u001b[0m\n",
       "─────┼───────────────────────────────────────────\n",
       "   1 │     7.0  Any[\"AARK\"]  Any[\"CKLE\"]\n",
       "   2 │     7.5  Any[\"AARK\"]  Any[\"CKLE\"]\n",
       "   3 │     8.0  Any[\"AARK\"]  Any[\"FOER\", \"CKLE\"]\n",
       "   4 │     8.5  Any[\"AARK\"]  Any[\"FOER\", \"CKLE\"]\n",
       "   5 │     9.0  Any[\"TATO\"]  Any[\"FOER\", \"GOFF\"]\n",
       "   6 │     9.5  Any[\"TATO\"]  Any[\"FOER\", \"GOFF\"]\n",
       "   7 │    10.0  Any[\"TATO\"]  Any[\"GOFF\", \"RWAS\"]\n",
       "   8 │    10.5  Any[\"TATO\"]  Any[\"GOFF\", \"RWAS\"]\n",
       "   9 │    11.0  Any[\"TATO\"]  Any[\"GOFF\", \"RWAS\"]\n",
       "  10 │    11.5  Any[\"TATO\"]  Any[\"LEBO\", \"RWAS\"]\n",
       "  11 │    12.0  Any[\"TATO\"]  Any[\"LEBO\", \"GOFF\"]\n",
       "  12 │    12.5  Any[\"TATO\"]  Any[\"LEBO\", \"GOFF\"]\n",
       "  ⋮  │    ⋮          ⋮                ⋮\n",
       "  22 │    17.5  Any[\"TATO\"]  Any[\"MORI\", \"FOER\"]\n",
       "  23 │    18.0  Any[\"TBOS\"]  Any[\"MORI\", \"FOER\"]\n",
       "  24 │    18.5  Any[\"TBOS\"]  Any[\"MORI\", \"FOER\"]\n",
       "  25 │    19.0  Any[\"TBOS\"]  Any[\"MORI\", \"RIHA\"]\n",
       "  26 │    19.5  Any[\"TBOS\"]  Any[\"RIHA\", \"BANT\"]\n",
       "  27 │    20.0  Any[\"JEMA\"]  Any[\"RIHA\", \"BANT\"]\n",
       "  28 │    20.5  Any[\"JEMA\"]  Any[\"RIHA\", \"BANT\"]\n",
       "  29 │    21.0  Any[\"JEMA\"]  Any[\"BANT\"]\n",
       "  30 │    21.5  Any[\"JEMA\"]  Any[\"BANT\"]\n",
       "  31 │    22.0  Any[\"JEMA\"]  Any[\"BANT\"]\n",
       "  32 │    22.5  Any[\"JEMA\"]  Any[\"BANT\"]\n",
       "\u001b[36m                                   9 rows omitted\u001b[0m"
      ]
     },
     "execution_count": 193,
     "metadata": {},
     "output_type": "execute_result"
    }
   ],
   "source": [
    "# Show Daily Schedule Nicely\n",
    "\n",
    "X = value.(sch)\n",
    "\n",
    "schedule = OrderedDict()\n",
    "for day in days\n",
    "    shift_types = get_shift_types(day)\n",
    "    schedule[day] = OrderedDict()\n",
    "    for shift in shift_types\n",
    "        schedule[day][shift] = OrderedDict()\n",
    "        for hour in hours\n",
    "            schedule[day][shift][hour] = []\n",
    "            for agent in agents\n",
    "                if X[agent, day, hour, shift] == 1\n",
    "                    append!(schedule[day][shift][hour], [agent])\n",
    "                end\n",
    "            end\n",
    "        end\n",
    "    end\n",
    "end\n",
    "\n",
    "day_to_show = 7\n",
    "shift_types = get_shift_types(day_to_show)\n",
    "data = schedule[day_to_show]\n",
    "cols = []\n",
    "for shift in shift_types\n",
    "    col = []\n",
    "    for hour in hours\n",
    "        append!(col, [data[shift][hour]])\n",
    "    end\n",
    "    append!(cols, [col])\n",
    "end\n",
    "if length(shift_types) == 4\n",
    "    df = DataFrame(time = hours_real, hdqa = cols[1], phones = cols[2], chat = cols[3], walkin = cols[4])\n",
    "elseif length(shift_types) == 2\n",
    "    df = DataFrame(time = hours_real, hdqa = cols[1], phones = cols[2])\n",
    "end\n",
    "\n",
    "df"
   ]
  },
  {
   "cell_type": "code",
   "execution_count": null,
   "metadata": {},
   "outputs": [],
   "source": []
  },
  {
   "cell_type": "code",
   "execution_count": null,
   "metadata": {},
   "outputs": [],
   "source": []
  }
 ],
 "metadata": {
  "kernelspec": {
   "display_name": "Julia 1.5.3",
   "language": "julia",
   "name": "julia-1.5"
  },
  "language_info": {
   "file_extension": ".jl",
   "mimetype": "application/julia",
   "name": "julia",
   "version": "1.5.3"
  }
 },
 "nbformat": 4,
 "nbformat_minor": 2
}
