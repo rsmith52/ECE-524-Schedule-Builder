{
 "cells": [
  {
   "cell_type": "markdown",
   "metadata": {},
   "source": [
    "# DoIT Schedule Building\n",
    "### Ray Smith - ECE 524"
   ]
  },
  {
   "cell_type": "code",
   "execution_count": 1,
   "metadata": {},
   "outputs": [],
   "source": [
    "using Pkg"
   ]
  },
  {
   "cell_type": "code",
   "execution_count": 2,
   "metadata": {},
   "outputs": [],
   "source": [
    "# Imports\n",
    "using JuMP\n",
    "using Clp\n",
    "using CSV\n",
    "using DataFrames\n",
    "using JSON\n",
    "using OrderedCollections"
   ]
  },
  {
   "cell_type": "code",
   "execution_count": 3,
   "metadata": {},
   "outputs": [
    {
     "data": {
      "text/plain": [
       "2"
      ]
     },
     "execution_count": 3,
     "metadata": {},
     "output_type": "execute_result"
    }
   ],
   "source": [
    "# Schedule Rules\n",
    "\n",
    "# General Schedule Layout\n",
    "hours = 1:32\n",
    "hours_real = 7:0.5:22.5\n",
    "days = 1:7\n",
    "\n",
    "# Shift Types and Training Requirements\n",
    "shifts = [\"HDQA\", \"Phones\", \"Chat/Email\", \"Walk-In\"]\n",
    "training_levels = [\"Pick 1\", \"Walk-In\", \"Pick 3\", \"Chat/Email\", \"HDQA\", \"SLP\"]\n",
    "requirements = Dict()\n",
    "requirements[shifts[1]] = [training_levels[5]]\n",
    "requirements[shifts[2]] = [training_levels[1]]\n",
    "requirements[shifts[3]] = [training_levels[4]]\n",
    "requirements[shifts[4]] = [training_levels[2]]\n",
    "\n",
    "# Allowed Flexibility in (Extra) Agents Scheduled\n",
    "flexibility = Dict()\n",
    "flexibility[shifts[1]] = [0]\n",
    "flexibility[shifts[2]] = [1]\n",
    "flexibility[shifts[3]] = [1]\n",
    "flexibility[shifts[4]] = [1]\n",
    "\n",
    "# Other Rules\n",
    "adv_phones_req = 1 # min number of pick 3 trained agents scheduled over a phones shift\n",
    "min_shift_length = 2 # in 1/2 hour blocks"
   ]
  },
  {
   "cell_type": "code",
   "execution_count": 23,
   "metadata": {},
   "outputs": [],
   "source": [
    "# Data Input\n",
    "\n",
    "# Schedule Shifts\n",
    "raw_week = CSV.read(joinpath(@__DIR__, \"week_req.csv\"), DataFrame)\n",
    "week_shift_types = names(raw_week)\n",
    "week = Matrix(raw_week)\n",
    "raw_weekend = CSV.read(joinpath(@__DIR__, \"weekend_req.csv\"), DataFrame)\n",
    "weekend_shift_types = names(raw_weekend)\n",
    "weekend = Matrix(raw_weekend)\n",
    "\n",
    "# Availability\n",
    "string_data = join(readlines(\"availability.json\"))\n",
    "raw_avail = JSON.parse(string_data)\n",
    "agents = keys(raw_avail)\n",
    "avail = OrderedDict()\n",
    "for agent in agents\n",
    "    raw_agent_avail = raw_avail[agent]\n",
    "    agent_avail = OrderedDict()\n",
    "    for i in hours\n",
    "        agent_avail[i] = raw_agent_avail[i]\n",
    "    end\n",
    "    avail[agent] = agent_avail\n",
    "end\n",
    "\n",
    "# Training\n",
    "string_data = join(readlines(\"agent_training.json\"))\n",
    "raw_trainings = JSON.parse(string_data)\n",
    "all_agents = keys(raw_trainings)\n",
    "trainings = OrderedDict()\n",
    "for agent in all_agents\n",
    "    raw_agent_trainings = raw_trainings[agent]\n",
    "    base_job = raw_agent_trainings[:\"Base\"]\n",
    "    agent_trainings = raw_agent_trainings[:\"Trainings\"]\n",
    "    if startswith(base_job, \"SLP\")\n",
    "        append!(agent_trainings, [\"SLP\"])\n",
    "    end\n",
    "    trainings[agent] = agent_trainings\n",
    "end"
   ]
  },
  {
   "cell_type": "code",
   "execution_count": 42,
   "metadata": {},
   "outputs": [
    {
     "data": {
      "text/plain": [
       "true"
      ]
     },
     "execution_count": 42,
     "metadata": {},
     "output_type": "execute_result"
    }
   ],
   "source": [
    "# Model Helper Functions\n",
    "\n",
    "# Check if agent has training\n",
    "function has_training(agent, training_level)\n",
    "    return training_level in trainings[agent]\n",
    "end\n",
    "\n",
    "# Check if agent meets all training requirements for a shift\n",
    "function meets_requirements(agent, shift)\n",
    "    shift_req = requirements[shift]\n",
    "    for training in shift_req\n",
    "        if !has_training(agent, training)\n",
    "            return false\n",
    "        end\n",
    "    end\n",
    "    return true\n",
    "end"
   ]
  },
  {
   "cell_type": "code",
   "execution_count": 5,
   "metadata": {},
   "outputs": [],
   "source": [
    "# Model Setup\n",
    "\n",
    "m = Model()\n",
    "\n",
    "# Solve the max flow problem\n",
    "set_optimizer(m, optimizer_with_attributes(Clp.Optimizer, \"LogLevel\"=>0))\n",
    "optimize!(m)"
   ]
  }
 ],
 "metadata": {
  "kernelspec": {
   "display_name": "Julia 1.5.3",
   "language": "julia",
   "name": "julia-1.5"
  },
  "language_info": {
   "file_extension": ".jl",
   "mimetype": "application/julia",
   "name": "julia",
   "version": "1.5.3"
  }
 },
 "nbformat": 4,
 "nbformat_minor": 2
}
