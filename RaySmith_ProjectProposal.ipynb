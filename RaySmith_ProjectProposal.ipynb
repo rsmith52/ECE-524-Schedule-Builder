{
 "cells": [
  {
   "cell_type": "markdown",
   "metadata": {},
   "source": [
    "### CS/ECE/ISyE 524 &mdash; Introduction to Optimization &mdash; Fall 2021 ###\n",
    "\n",
    "# Automating Agent Scheduling for the DoIT Help Desk\n",
    "\n",
    "#### Ray Smith (rsmith52@wisc.edu)"
   ]
  },
  {
   "cell_type": "markdown",
   "metadata": {},
   "source": [
    "### (A) Issue being addressed in this project"
   ]
  },
  {
   "cell_type": "markdown",
   "metadata": {},
   "source": [
    "The DoIT Help Desk, where I as a part time student employee, collects availability and a desired range of hours from its student employees every semester. Currently, it is 1-2 people's job to look at this availabiliity, as well as the shifts that need to be filled and manually create a schedule for the semester. There are many different types of roles needed throughout the day that require different levels of training, and the availability of students varies widely. It takes a lot of work hours to create a schedule for the semester, and it is always subject to change as new people get hired or absences due to sickness come up.\n",
    "\n",
    "For this project, I would like to develop and solve an optimization problem formated such that availability and desired hours can be plugged in, and a schedule (or multiple options) can be outputed automatically to help improve the current process used by the help desk."
   ]
  },
  {
   "cell_type": "markdown",
   "metadata": {},
   "source": [
    "### (B) What kind of data will you need, where will it come from, and how will you obtain it?"
   ]
  },
  {
   "cell_type": "markdown",
   "metadata": {},
   "source": [
    "The data required for this project includes the full set of shifts throughout a week that need to be filled along with the availability and desired number of hours for each student worker. As an employee at the help desk, I have access to this data already from the admin portal on \"ACME\" the tool used for scheduling by the DoIT Help Desk. Additionally I will need the training level of each agent to know who can fill each type of shift. This information is also available through the same portal."
   ]
  },
  {
   "cell_type": "markdown",
   "metadata": {},
   "source": [
    "### (C) What is the optimization problem underlying this project? (LP, QP, SOCP, MIP, NLP, other?)"
   ]
  },
  {
   "cell_type": "markdown",
   "metadata": {},
   "source": [
    "The optimizationn problem underlying this project is a scheduling problem, which is a special type of Linear Program. This problem will be far more complicated than those worked on in homework assignments, as the shifts to fill have different requirements based on agent training levels. Furthermore, students are able to indicate preference to working most of their shifts in either the morning, midday, or evening. I would like to be able to accommodate these preferences, possibly through a regularization term in the objective. I will also want to ensure that each agent gets a relatively even amount of hours."
   ]
  },
  {
   "cell_type": "markdown",
   "metadata": {},
   "source": [
    "### (D) What will you deliver in terms of code, results, outcomes?"
   ]
  },
  {
   "cell_type": "markdown",
   "metadata": {},
   "source": [
    "I intend to deliver a julia notebook that lives in a directory along with data files that specify the available agents and shifts to fill. These 2 files should be able to be edited without touching the code to change the input to the model. Ideally, I would also like the code to be able to nicely format the output into a table that can be recognized as a schedule."
   ]
  },
  {
   "cell_type": "markdown",
   "metadata": {},
   "source": [
    "### (E) Other points to be considered."
   ]
  },
  {
   "cell_type": "markdown",
   "metadata": {},
   "source": [
    "* There is a lot of room for balancing how important various aspects to the problem are. Valueing the importance of time-of-day preference along with keeping an even number of hours amongst agents so someone isn't getting an unfair amount of hours will have to be kept in mind along with the more concrete filling of shifts by training level.\n",
    "* While this data is available to me through working at DoIT, some of the information is somewhat sensitive as it tells the \"free time\" of agents working for the help desk. Any results I turn in for this class will have student names/identifiers replaced to keep confidentiality.\n",
    "* Hopefully if this project is a success and works as intended, it can be implemented at the DoIT Help Desk to remove the arduous task that currently exists to manually create schedules each semester."
   ]
  },
  {
   "cell_type": "code",
   "execution_count": null,
   "metadata": {},
   "outputs": [],
   "source": []
  }
 ],
 "metadata": {
  "kernelspec": {
   "display_name": "Julia 1.5.3",
   "language": "julia",
   "name": "julia-1.5"
  },
  "language_info": {
   "file_extension": ".jl",
   "mimetype": "application/julia",
   "name": "julia",
   "version": "1.5.3"
  }
 },
 "nbformat": 4,
 "nbformat_minor": 1
}
